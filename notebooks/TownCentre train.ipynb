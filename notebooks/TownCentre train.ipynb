{
 "cells": [
  {
   "cell_type": "code",
   "execution_count": 1,
   "metadata": {},
   "outputs": [],
   "source": [
    "from datasets.towncentre import load_towncentre"
   ]
  },
  {
   "cell_type": "code",
   "execution_count": 2,
   "metadata": {},
   "outputs": [
    {
     "name": "stdout",
     "output_type": "stream",
     "text": [
      "Number of train samples: 6916\n",
      "Number of validation samples: 874\n",
      "Number of test samples: 904\n"
     ]
    }
   ],
   "source": [
    "(xtr, ytr, img_names_tr), (xval, yval, img_names_val), (xte, yte, img_names_te) = load_towncentre('../data/TownCentre.pkl.gz',\n",
    "                                                              canonical_split=True,\n",
    "                                                              verbose=1)"
   ]
  },
  {
   "cell_type": "code",
   "execution_count": 3,
   "metadata": {},
   "outputs": [],
   "source": [
    "import numpy as np\n",
    "from utils import angles\n",
    "\n",
    "def convert_and_pad_angle_data(y):\n",
    "    \"\"\" In case there is only 1 component, we augment data with fake tilt and roll components\n",
    "    \"\"\"\n",
    "    y_pan_bit = angles.deg2bit(y)\n",
    "    y_tilt_bit = angles.deg2bit(np.zeros_like(y))\n",
    "    y_roll_bit = angles.deg2bit(np.zeros_like(y))\n",
    "    \n",
    "    return np.hstack([y_pan_bit, y_tilt_bit, y_roll_bit])"
   ]
  },
  {
   "cell_type": "code",
   "execution_count": 4,
   "metadata": {},
   "outputs": [],
   "source": [
    "ytr = convert_and_pad_angle_data(ytr)\n",
    "yval = convert_and_pad_angle_data(yval)\n",
    "yte = convert_and_pad_angle_data(yte)"
   ]
  },
  {
   "cell_type": "code",
   "execution_count": 5,
   "metadata": {},
   "outputs": [
    {
     "name": "stderr",
     "output_type": "stream",
     "text": [
      "/Users/sergeyprokudin/deep_direct_stat/py_env/lib/python3.6/importlib/_bootstrap.py:219: RuntimeWarning: numpy.dtype size changed, may indicate binary incompatibility. Expected 96, got 88\n",
      "  return f(*args, **kwds)\n",
      "/Users/sergeyprokudin/deep_direct_stat/py_env/lib/python3.6/importlib/_bootstrap.py:219: RuntimeWarning: numpy.dtype size changed, may indicate binary incompatibility. Expected 96, got 88\n",
      "  return f(*args, **kwds)\n",
      "Using TensorFlow backend.\n"
     ]
    }
   ],
   "source": [
    "from models.infinite_mixture import BiternionMixture\n",
    "\n",
    "model = BiternionMixture(z_size=2, input_shape=xtr.shape[1:], \n",
    "                         backbone_cnn='mobilenet', backbone_weights=None, debug=False,\n",
    "                         hlayer_size=512, n_samples=2)"
   ]
  },
  {
   "cell_type": "code",
   "execution_count": null,
   "metadata": {},
   "outputs": [],
   "source": [
    "ckpt_path = '../logs/towncentre.h5'\n",
    "\n",
    "model.fit(xtr, ytr, validation_data=[xval, yval], ckpt_path=ckpt_path, epochs=50, patience=5)"
   ]
  }
 ],
 "metadata": {
  "kernelspec": {
   "display_name": "py_env",
   "language": "python",
   "name": "py_env"
  },
  "language_info": {
   "codemirror_mode": {
    "name": "ipython",
    "version": 3
   },
   "file_extension": ".py",
   "mimetype": "text/x-python",
   "name": "python",
   "nbconvert_exporter": "python",
   "pygments_lexer": "ipython3",
   "version": "3.6.5"
  }
 },
 "nbformat": 4,
 "nbformat_minor": 2
}
